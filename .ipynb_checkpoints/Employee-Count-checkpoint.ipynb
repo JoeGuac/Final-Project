{
 "cells": [
  {
   "cell_type": "markdown",
   "metadata": {},
   "source": [
    "Mohammed Baled's Metric"
   ]
  },
  {
   "cell_type": "markdown",
   "metadata": {},
   "source": [
    "# Total Amount of Employees/People in the Workforce"
   ]
  },
  {
   "cell_type": "markdown",
   "metadata": {},
   "source": [
    "Measuring the total amount of employees a neighborhood has- or rather how many people receive an income through their wage or salary- is one of the metrics that we will be using to deduce what the \"best\" neighborhood is."
   ]
  },
  {
   "cell_type": "markdown",
   "metadata": {},
   "source": [
    "## Why Employee Count?"
   ]
  },
  {
   "cell_type": "markdown",
   "metadata": {},
   "source": [
    "Through a neighborhoods employee count we can measure how active and independent a neighborhood is. We can also measure make a good assumption that the neighborhood that has the most employees, in turn, has the most steady community as each community member can support each other and their community equally. "
   ]
  },
  {
   "cell_type": "code",
   "execution_count": 2,
   "metadata": {},
   "outputs": [],
   "source": [
    "import pandas as pd\n",
    "import numpy as np\n",
    "%matplotlib inline\n",
    "import matplotlib.pyplot as plt"
   ]
  },
  {
   "cell_type": "code",
   "execution_count": 3,
   "metadata": {},
   "outputs": [],
   "source": [
    "data = pd.read_csv(\"BinaryWageOrSalary.csv\",index_col = 'Id')"
   ]
  },
  {
   "cell_type": "code",
   "execution_count": 22,
   "metadata": {},
   "outputs": [
    {
     "data": {
      "text/html": [
       "<div>\n",
       "<style scoped>\n",
       "    .dataframe tbody tr th:only-of-type {\n",
       "        vertical-align: middle;\n",
       "    }\n",
       "\n",
       "    .dataframe tbody tr th {\n",
       "        vertical-align: top;\n",
       "    }\n",
       "\n",
       "    .dataframe thead th {\n",
       "        text-align: right;\n",
       "    }\n",
       "</style>\n",
       "<table border=\"1\" class=\"dataframe\">\n",
       "  <thead>\n",
       "    <tr style=\"text-align: right;\">\n",
       "      <th></th>\n",
       "      <th>Neighborhood</th>\n",
       "      <th>Estimate; Total:</th>\n",
       "      <th>Margin of Error; Total:</th>\n",
       "      <th>Estimate; Total: - With wage or salary income</th>\n",
       "      <th>Margin of Error; Total: - With wage or salary income</th>\n",
       "      <th>Estimate; Total: - No wage or salary income</th>\n",
       "      <th>Margin of Error; Total: - No wage or salary income</th>\n",
       "    </tr>\n",
       "    <tr>\n",
       "      <th>Id</th>\n",
       "      <th></th>\n",
       "      <th></th>\n",
       "      <th></th>\n",
       "      <th></th>\n",
       "      <th></th>\n",
       "      <th></th>\n",
       "      <th></th>\n",
       "    </tr>\n",
       "  </thead>\n",
       "  <tbody>\n",
       "    <tr>\n",
       "      <th>1</th>\n",
       "      <td>Allegheny Center</td>\n",
       "      <td>733.0</td>\n",
       "      <td>103.000000</td>\n",
       "      <td>462.0</td>\n",
       "      <td>94.000000</td>\n",
       "      <td>271.0</td>\n",
       "      <td>87.000000</td>\n",
       "    </tr>\n",
       "    <tr>\n",
       "      <th>2</th>\n",
       "      <td>Allegheny West</td>\n",
       "      <td>150.0</td>\n",
       "      <td>46.000000</td>\n",
       "      <td>120.0</td>\n",
       "      <td>40.000000</td>\n",
       "      <td>30.0</td>\n",
       "      <td>26.000000</td>\n",
       "    </tr>\n",
       "    <tr>\n",
       "      <th>3</th>\n",
       "      <td>Allentown</td>\n",
       "      <td>1138.0</td>\n",
       "      <td>152.751432</td>\n",
       "      <td>772.0</td>\n",
       "      <td>146.771932</td>\n",
       "      <td>366.0</td>\n",
       "      <td>109.389213</td>\n",
       "    </tr>\n",
       "    <tr>\n",
       "      <th>4</th>\n",
       "      <td>Arlington</td>\n",
       "      <td>685.0</td>\n",
       "      <td>105.366029</td>\n",
       "      <td>566.0</td>\n",
       "      <td>104.589674</td>\n",
       "      <td>119.0</td>\n",
       "      <td>44.452222</td>\n",
       "    </tr>\n",
       "    <tr>\n",
       "      <th>5</th>\n",
       "      <td>Arlington Heights</td>\n",
       "      <td>170.0</td>\n",
       "      <td>69.000000</td>\n",
       "      <td>96.0</td>\n",
       "      <td>58.000000</td>\n",
       "      <td>74.0</td>\n",
       "      <td>52.000000</td>\n",
       "    </tr>\n",
       "    <tr>\n",
       "      <th>6</th>\n",
       "      <td>Banksville</td>\n",
       "      <td>2002.0</td>\n",
       "      <td>224.986666</td>\n",
       "      <td>1596.0</td>\n",
       "      <td>226.477372</td>\n",
       "      <td>406.0</td>\n",
       "      <td>145.168867</td>\n",
       "    </tr>\n",
       "    <tr>\n",
       "      <th>7</th>\n",
       "      <td>Bedford Dwellings</td>\n",
       "      <td>684.0</td>\n",
       "      <td>63.000000</td>\n",
       "      <td>294.0</td>\n",
       "      <td>69.000000</td>\n",
       "      <td>390.0</td>\n",
       "      <td>77.000000</td>\n",
       "    </tr>\n",
       "    <tr>\n",
       "      <th>8</th>\n",
       "      <td>Beechview</td>\n",
       "      <td>3557.0</td>\n",
       "      <td>270.051847</td>\n",
       "      <td>2654.0</td>\n",
       "      <td>249.649755</td>\n",
       "      <td>903.0</td>\n",
       "      <td>162.154248</td>\n",
       "    </tr>\n",
       "    <tr>\n",
       "      <th>9</th>\n",
       "      <td>Beltzhoover</td>\n",
       "      <td>869.0</td>\n",
       "      <td>146.594679</td>\n",
       "      <td>586.0</td>\n",
       "      <td>117.187883</td>\n",
       "      <td>283.0</td>\n",
       "      <td>107.712581</td>\n",
       "    </tr>\n",
       "    <tr>\n",
       "      <th>10</th>\n",
       "      <td>Bloomfield</td>\n",
       "      <td>4640.0</td>\n",
       "      <td>215.506380</td>\n",
       "      <td>3789.0</td>\n",
       "      <td>223.385317</td>\n",
       "      <td>851.0</td>\n",
       "      <td>117.388245</td>\n",
       "    </tr>\n",
       "  </tbody>\n",
       "</table>\n",
       "</div>"
      ],
      "text/plain": [
       "         Neighborhood  Estimate; Total:  Margin of Error; Total:  \\\n",
       "Id                                                                 \n",
       "1    Allegheny Center             733.0               103.000000   \n",
       "2      Allegheny West             150.0                46.000000   \n",
       "3           Allentown            1138.0               152.751432   \n",
       "4           Arlington             685.0               105.366029   \n",
       "5   Arlington Heights             170.0                69.000000   \n",
       "6          Banksville            2002.0               224.986666   \n",
       "7   Bedford Dwellings             684.0                63.000000   \n",
       "8           Beechview            3557.0               270.051847   \n",
       "9         Beltzhoover             869.0               146.594679   \n",
       "10         Bloomfield            4640.0               215.506380   \n",
       "\n",
       "    Estimate; Total: - With wage or salary income  \\\n",
       "Id                                                  \n",
       "1                                           462.0   \n",
       "2                                           120.0   \n",
       "3                                           772.0   \n",
       "4                                           566.0   \n",
       "5                                            96.0   \n",
       "6                                          1596.0   \n",
       "7                                           294.0   \n",
       "8                                          2654.0   \n",
       "9                                           586.0   \n",
       "10                                         3789.0   \n",
       "\n",
       "    Margin of Error; Total: - With wage or salary income  \\\n",
       "Id                                                         \n",
       "1                                           94.000000      \n",
       "2                                           40.000000      \n",
       "3                                          146.771932      \n",
       "4                                          104.589674      \n",
       "5                                           58.000000      \n",
       "6                                          226.477372      \n",
       "7                                           69.000000      \n",
       "8                                          249.649755      \n",
       "9                                          117.187883      \n",
       "10                                         223.385317      \n",
       "\n",
       "    Estimate; Total: - No wage or salary income  \\\n",
       "Id                                                \n",
       "1                                         271.0   \n",
       "2                                          30.0   \n",
       "3                                         366.0   \n",
       "4                                         119.0   \n",
       "5                                          74.0   \n",
       "6                                         406.0   \n",
       "7                                         390.0   \n",
       "8                                         903.0   \n",
       "9                                         283.0   \n",
       "10                                        851.0   \n",
       "\n",
       "    Margin of Error; Total: - No wage or salary income  \n",
       "Id                                                      \n",
       "1                                           87.000000   \n",
       "2                                           26.000000   \n",
       "3                                          109.389213   \n",
       "4                                           44.452222   \n",
       "5                                           52.000000   \n",
       "6                                          145.168867   \n",
       "7                                           77.000000   \n",
       "8                                          162.154248   \n",
       "9                                          107.712581   \n",
       "10                                         117.388245   "
      ]
     },
     "execution_count": 22,
     "metadata": {},
     "output_type": "execute_result"
    }
   ],
   "source": [
    "data.head(10)"
   ]
  },
  {
   "cell_type": "markdown",
   "metadata": {},
   "source": [
    " ## Assessing the data at hand"
   ]
  },
  {
   "cell_type": "markdown",
   "metadata": {},
   "source": [
    "In this data set we see 8 data values given to each row:\n",
    "\n",
    "1.The Neighborhood\\\n",
    "2.The id\\\n",
    "3.The estimate total amount of people living in a neighborhood\\\n",
    "4.The margin of error for the total amount of people living in a neighborhood\\\n",
    "5.The estimate total amount of people that have a steady flow of income through their wage or salary\\\n",
    "6.The margin of error for the total amount of people that have a steady flow of income through their wage or salary\\\n",
    "7.The estimate amount of people that don't have a steady flow of income through a wage or salary\\\n",
    "8.The margin of error for the total amount of people that don't have a steady flow of income through a wage or salary\n",
    "\n",
    "\n",
    "\n",
    "##### The id is more or less irrelevant and for the sake of simplicity we won't be taking into account/looking at the margin of errors for the real values we need: The estimate total amount of people that have or don't have a steady flow of income through their wage or salary."
   ]
  },
  {
   "cell_type": "markdown",
   "metadata": {},
   "source": [
    "----------"
   ]
  },
  {
   "cell_type": "markdown",
   "metadata": {},
   "source": [
    "## A Quick Look at the Statistics of our Data"
   ]
  },
  {
   "cell_type": "code",
   "execution_count": 6,
   "metadata": {},
   "outputs": [
    {
     "name": "stdout",
     "output_type": "stream",
     "text": [
      "Our data set contains a total of 91 neighborhoods located in the Pittsburgh area but we have not taken outliers into account and will only be using 89 of them\n",
      "\n",
      "The average population of a neighborhood is: 1502\n",
      "\n",
      "The minimum amount of people living in a neighborhood is: 104.0\n",
      "\n",
      "The average amount of people in a neighborhood that are in the workforce is: 1090\n",
      "\n",
      "The average amount of people in a neighborhood that are not in the workforce is: 412\n"
     ]
    }
   ],
   "source": [
    "query_mask = data['Estimate; Total:'] > 8\n",
    "trueData = data[query_mask]\n",
    "\n",
    "print(\"Our data set contains a total of \" + str(len(data)) + \" neighborhoods located in the Pittsburgh area but we have not taken outliers into account and will only be using \" + str(len(trueData))+ \" of them\"\"\\n\")\n",
    "print(\"The average population of a neighborhood is: \" + str(int(trueData[\"Estimate; Total:\"].mean()))+ \"\\n\")\n",
    "print(\"The minimum amount of people living in a neighborhood is: \" +  str(trueData['Estimate; Total:'].min())+ \"\\n\")\n",
    "print(\"The average amount of people in a neighborhood that are in the workforce is: \" + str(int(trueData[\"Estimate; Total: - With wage or salary income\"].mean())) + \"\\n\")\n",
    "print(\"The average amount of people in a neighborhood that are not in the workforce is: \" + str(int(trueData[\"Estimate; Total: - No wage or salary income\"].mean() )))"
   ]
  },
  {
   "cell_type": "markdown",
   "metadata": {},
   "source": [
    "-----"
   ]
  },
  {
   "cell_type": "markdown",
   "metadata": {},
   "source": [
    "## How can we efficiently use our data?"
   ]
  },
  {
   "cell_type": "code",
   "execution_count": 7,
   "metadata": {},
   "outputs": [
    {
     "data": {
      "text/plain": [
       "<matplotlib.axes._subplots.AxesSubplot at 0x7f269e2b30d0>"
      ]
     },
     "execution_count": 7,
     "metadata": {},
     "output_type": "execute_result"
    },
    {
     "data": {
      "image/png": "[encoded data removed]",
      "text/plain": [
       "<Figure size 432x288 with 1 Axes>"
      ]
     },
     "metadata": {
      "needs_background": "light"
     },
     "output_type": "display_data"
    },
    {
     "data": {
      "image/png": "[encoded data removed]",
      "text/plain": [
       "<Figure size 432x288 with 1 Axes>"
      ]
     },
     "metadata": {
      "needs_background": "light"
     },
     "output_type": "display_data"
    }
   ],
   "source": [
    "trueData.plot(kind='scatter', x='Estimate; Total:', y='Estimate; Total: - With wage or salary income',\n",
    "          title=\"Total People vs Total Employed\")\n",
    "\n",
    "trueData.plot(kind='scatter', x='Estimate; Total:', y='Estimate; Total: - No wage or salary income',\n",
    "          title=\"Total People vs Total Not Employed\")\n",
    "\n"
   ]
  },
  {
   "cell_type": "markdown",
   "metadata": {},
   "source": [
    "The first scatterplot shows a very strong, positive, linear relationship between the total amount of people living in a neighborhood to the amount of employees that neighborhood has, and there are no major outliers in the data. Most of the data seems to be contained within the 100-2500 range.\n",
    "\n",
    "\n",
    "The second scatterplot shows a moderately strong, positive, linear relationship betweeen the total amount of people living in a neighborhood to the amount of people that are not employed, and there may be a couple outliers. Most of the data seems to be contained within the 100-2500 range aswell.\n",
    "\n",
    "We would definetely expect both of these scatterplots to take this shape. Due to the graphs linear shape we cannot simply choose the neighborhood that has most amount of people. We must develop a dynamic metric in this case to take into account the neighborhoods population. We can choose to take the ratio of the total amount of people employed in a neighborhood to the total amount of people in that neighborhood.\n"
   ]
  },
  {
   "cell_type": "markdown",
   "metadata": {},
   "source": [
    "----"
   ]
  },
  {
   "cell_type": "code",
   "execution_count": null,
   "metadata": {},
   "outputs": [],
   "source": [
    "\n"
   ]
  },
  {
   "cell_type": "code",
   "execution_count": 8,
   "metadata": {},
   "outputs": [
    {
     "data": {
      "text/plain": [
       "<matplotlib.collections.PathCollection at 0x7f269e355730>"
      ]
     },
     "execution_count": 8,
     "metadata": {},
     "output_type": "execute_result"
    },
    {
     "data": {
      "image/png": "[encoded data removed]",
      "text/plain": [
       "<Figure size 432x288 with 1 Axes>"
      ]
     },
     "metadata": {
      "needs_background": "light"
     },
     "output_type": "display_data"
    }
   ],
   "source": [
    "ratioList = []\n",
    "populationList = []\n",
    "neighborhoodList = []\n",
    "\n",
    "\n",
    "\n",
    "ratio = 0\n",
    "maxRatio = 0;\n",
    "bestNeighborhood = '';\n",
    "bestNeighborhoodPop = 0\n",
    "bestNeighborhoodEmpCount = 0\n",
    "for index, row in trueData.iterrows():\n",
    "    neighborhood = row['Neighborhood']\n",
    "    population = row['Estimate; Total:']\n",
    "    employeeCount = row['Estimate; Total: - With wage or salary income']\n",
    "    \n",
    "    ratio = employeeCount/population\n",
    "    ratioList.append(ratio)\n",
    "    populationList.append(population)\n",
    "    neighborhoodList.append(neighborhood)\n",
    "    \n",
    "    if(ratio>maxRatio):\n",
    "        maxRatio = ratio\n",
    "        bestNeighborhood = neighborhood\n",
    "        bestNeighborhoodPop = population\n",
    "        bestNeighborhoodEmpCount = employeeCount\n",
    "        \n",
    "    \n",
    "    \n",
    "plt.scatter(ratioList,populationList) ## skewed to the left\n",
    "plt.scatter(ratioList,neighborhoodList)"
   ]
  },
  {
   "cell_type": "code",
   "execution_count": null,
   "metadata": {},
   "outputs": [],
   "source": [
    "\n"
   ]
  },
  {
   "cell_type": "code",
   "execution_count": 9,
   "metadata": {},
   "outputs": [
    {
     "name": "stdout",
     "output_type": "stream",
     "text": [
      "The neighborhood with the best employee to population rate of 0.9781181619256017 is Fairywood\n",
      "\n",
      "Fairywood has a total population count of 457.0 with 447.0 being employed\n"
     ]
    }
   ],
   "source": [
    "print(\"The neighborhood with the best employee to population rate of \" + str(maxRatio) + \" is \" + bestNeighborhood + \"\\n\")\n",
    "\n",
    "print(bestNeighborhood + \" has a total population count of \" + str(bestNeighborhoodPop) + \n",
    "      \" with \" + str(bestNeighborhoodEmpCount)+ \" being employed\"   )\n"
   ]
  },
  {
   "cell_type": "code",
   "execution_count": null,
   "metadata": {},
   "outputs": [],
   "source": []
  }
 ],
 "metadata": {
  "kernelspec": {
   "display_name": "Python 3",
   "language": "python",
   "name": "python3"
  },
  "language_info": {
   "codemirror_mode": {
    "name": "ipython",
    "version": 3
   },
   "file_extension": ".py",
   "mimetype": "text/x-python",
   "name": "python",
   "nbconvert_exporter": "python",
   "pygments_lexer": "ipython3",
   "version": "3.8.3"
  }
 },
 "nbformat": 4,
 "nbformat_minor": 4
}
