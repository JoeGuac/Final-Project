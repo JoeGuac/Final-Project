{
 "cells": [
  {
   "cell_type": "markdown",
   "metadata": {},
   "source": [
    "Mohammed Baled's Metric"
   ]
  },
  {
   "cell_type": "markdown",
   "metadata": {},
   "source": [
    "# Total Amount of Employees/People in the Workforce"
   ]
  },
  {
   "cell_type": "markdown",
   "metadata": {},
   "source": [
    "Measuring the total amount of employees a neighborhood has- or rather how many people receive an income through their wage or salary- is one of the metrics that we will be using to deduce what the \"best\" neighborhood is."
   ]
  },
  {
   "cell_type": "markdown",
   "metadata": {},
   "source": [
    "## Why Employee Count?"
   ]
  },
  {
   "cell_type": "markdown",
   "metadata": {},
   "source": [
    "Through a neighborhoods employee count we can measure how active and independent a neighborhood is. We can also measure make a good assumption that the neighborhood that has the most employees, in turn, has the most steady community as each community member can support each other and their community equally. "
   ]
  },
  {
   "cell_type": "code",
   "execution_count": 1,
   "metadata": {},
   "outputs": [],
   "source": [
    "import pandas as pd\n",
    "import numpy as np\n",
    "%matplotlib inline\n",
    "import matplotlib.pyplot as plt"
   ]
  },
  {
   "cell_type": "code",
   "execution_count": 2,
   "metadata": {},
   "outputs": [],
   "source": [
    "data = pd.read_csv(\"BinaryWageOrSalary.csv\",index_col = 'Id')"
   ]
  },
  {
   "cell_type": "code",
   "execution_count": 3,
   "metadata": {},
   "outputs": [
    {
     "data": {
      "text/html": [
       "<div>\n",
       "<style scoped>\n",
       "    .dataframe tbody tr th:only-of-type {\n",
       "        vertical-align: middle;\n",
       "    }\n",
       "\n",
       "    .dataframe tbody tr th {\n",
       "        vertical-align: top;\n",
       "    }\n",
       "\n",
       "    .dataframe thead th {\n",
       "        text-align: right;\n",
       "    }\n",
       "</style>\n",
       "<table border=\"1\" class=\"dataframe\">\n",
       "  <thead>\n",
       "    <tr style=\"text-align: right;\">\n",
       "      <th></th>\n",
       "      <th>Neighborhood</th>\n",
       "      <th>Estimate; Total:</th>\n",
       "      <th>Margin of Error; Total:</th>\n",
       "      <th>Estimate; Total: - With wage or salary income</th>\n",
       "      <th>Margin of Error; Total: - With wage or salary income</th>\n",
       "      <th>Estimate; Total: - No wage or salary income</th>\n",
       "      <th>Margin of Error; Total: - No wage or salary income</th>\n",
       "    </tr>\n",
       "    <tr>\n",
       "      <th>Id</th>\n",
       "      <th></th>\n",
       "      <th></th>\n",
       "      <th></th>\n",
       "      <th></th>\n",
       "      <th></th>\n",
       "      <th></th>\n",
       "      <th></th>\n",
       "    </tr>\n",
       "  </thead>\n",
       "  <tbody>\n",
       "    <tr>\n",
       "      <th>1</th>\n",
       "      <td>Allegheny Center</td>\n",
       "      <td>733.0</td>\n",
       "      <td>103.000000</td>\n",
       "      <td>462.0</td>\n",
       "      <td>94.000000</td>\n",
       "      <td>271.0</td>\n",
       "      <td>87.000000</td>\n",
       "    </tr>\n",
       "    <tr>\n",
       "      <th>2</th>\n",
       "      <td>Allegheny West</td>\n",
       "      <td>150.0</td>\n",
       "      <td>46.000000</td>\n",
       "      <td>120.0</td>\n",
       "      <td>40.000000</td>\n",
       "      <td>30.0</td>\n",
       "      <td>26.000000</td>\n",
       "    </tr>\n",
       "    <tr>\n",
       "      <th>3</th>\n",
       "      <td>Allentown</td>\n",
       "      <td>1138.0</td>\n",
       "      <td>152.751432</td>\n",
       "      <td>772.0</td>\n",
       "      <td>146.771932</td>\n",
       "      <td>366.0</td>\n",
       "      <td>109.389213</td>\n",
       "    </tr>\n",
       "    <tr>\n",
       "      <th>4</th>\n",
       "      <td>Arlington</td>\n",
       "      <td>685.0</td>\n",
       "      <td>105.366029</td>\n",
       "      <td>566.0</td>\n",
       "      <td>104.589674</td>\n",
       "      <td>119.0</td>\n",
       "      <td>44.452222</td>\n",
       "    </tr>\n",
       "    <tr>\n",
       "      <th>5</th>\n",
       "      <td>Arlington Heights</td>\n",
       "      <td>170.0</td>\n",
       "      <td>69.000000</td>\n",
       "      <td>96.0</td>\n",
       "      <td>58.000000</td>\n",
       "      <td>74.0</td>\n",
       "      <td>52.000000</td>\n",
       "    </tr>\n",
       "    <tr>\n",
       "      <th>6</th>\n",
       "      <td>Banksville</td>\n",
       "      <td>2002.0</td>\n",
       "      <td>224.986666</td>\n",
       "      <td>1596.0</td>\n",
       "      <td>226.477372</td>\n",
       "      <td>406.0</td>\n",
       "      <td>145.168867</td>\n",
       "    </tr>\n",
       "    <tr>\n",
       "      <th>7</th>\n",
       "      <td>Bedford Dwellings</td>\n",
       "      <td>684.0</td>\n",
       "      <td>63.000000</td>\n",
       "      <td>294.0</td>\n",
       "      <td>69.000000</td>\n",
       "      <td>390.0</td>\n",
       "      <td>77.000000</td>\n",
       "    </tr>\n",
       "    <tr>\n",
       "      <th>8</th>\n",
       "      <td>Beechview</td>\n",
       "      <td>3557.0</td>\n",
       "      <td>270.051847</td>\n",
       "      <td>2654.0</td>\n",
       "      <td>249.649755</td>\n",
       "      <td>903.0</td>\n",
       "      <td>162.154248</td>\n",
       "    </tr>\n",
       "    <tr>\n",
       "      <th>9</th>\n",
       "      <td>Beltzhoover</td>\n",
       "      <td>869.0</td>\n",
       "      <td>146.594679</td>\n",
       "      <td>586.0</td>\n",
       "      <td>117.187883</td>\n",
       "      <td>283.0</td>\n",
       "      <td>107.712581</td>\n",
       "    </tr>\n",
       "    <tr>\n",
       "      <th>10</th>\n",
       "      <td>Bloomfield</td>\n",
       "      <td>4640.0</td>\n",
       "      <td>215.506380</td>\n",
       "      <td>3789.0</td>\n",
       "      <td>223.385317</td>\n",
       "      <td>851.0</td>\n",
       "      <td>117.388245</td>\n",
       "    </tr>\n",
       "  </tbody>\n",
       "</table>\n",
       "</div>"
      ],
      "text/plain": [
       "         Neighborhood  Estimate; Total:  Margin of Error; Total:  \\\n",
       "Id                                                                 \n",
       "1    Allegheny Center             733.0               103.000000   \n",
       "2      Allegheny West             150.0                46.000000   \n",
       "3           Allentown            1138.0               152.751432   \n",
       "4           Arlington             685.0               105.366029   \n",
       "5   Arlington Heights             170.0                69.000000   \n",
       "6          Banksville            2002.0               224.986666   \n",
       "7   Bedford Dwellings             684.0                63.000000   \n",
       "8           Beechview            3557.0               270.051847   \n",
       "9         Beltzhoover             869.0               146.594679   \n",
       "10         Bloomfield            4640.0               215.506380   \n",
       "\n",
       "    Estimate; Total: - With wage or salary income  \\\n",
       "Id                                                  \n",
       "1                                           462.0   \n",
       "2                                           120.0   \n",
       "3                                           772.0   \n",
       "4                                           566.0   \n",
       "5                                            96.0   \n",
       "6                                          1596.0   \n",
       "7                                           294.0   \n",
       "8                                          2654.0   \n",
       "9                                           586.0   \n",
       "10                                         3789.0   \n",
       "\n",
       "    Margin of Error; Total: - With wage or salary income  \\\n",
       "Id                                                         \n",
       "1                                           94.000000      \n",
       "2                                           40.000000      \n",
       "3                                          146.771932      \n",
       "4                                          104.589674      \n",
       "5                                           58.000000      \n",
       "6                                          226.477372      \n",
       "7                                           69.000000      \n",
       "8                                          249.649755      \n",
       "9                                          117.187883      \n",
       "10                                         223.385317      \n",
       "\n",
       "    Estimate; Total: - No wage or salary income  \\\n",
       "Id                                                \n",
       "1                                         271.0   \n",
       "2                                          30.0   \n",
       "3                                         366.0   \n",
       "4                                         119.0   \n",
       "5                                          74.0   \n",
       "6                                         406.0   \n",
       "7                                         390.0   \n",
       "8                                         903.0   \n",
       "9                                         283.0   \n",
       "10                                        851.0   \n",
       "\n",
       "    Margin of Error; Total: - No wage or salary income  \n",
       "Id                                                      \n",
       "1                                           87.000000   \n",
       "2                                           26.000000   \n",
       "3                                          109.389213   \n",
       "4                                           44.452222   \n",
       "5                                           52.000000   \n",
       "6                                          145.168867   \n",
       "7                                           77.000000   \n",
       "8                                          162.154248   \n",
       "9                                          107.712581   \n",
       "10                                         117.388245   "
      ]
     },
     "execution_count": 3,
     "metadata": {},
     "output_type": "execute_result"
    }
   ],
   "source": [
    "data.head(10)"
   ]
  },
  {
   "cell_type": "markdown",
   "metadata": {},
   "source": [
    " ## Assessing the data at hand"
   ]
  },
  {
   "cell_type": "markdown",
   "metadata": {},
   "source": [
    "In this data set we see 8 data values given to each row:\n",
    "\n",
    "1.The Neighborhood\\\n",
    "2.The id\\\n",
    "3.The estimate total amount of people living in a neighborhood\\\n",
    "4.The margin of error for the total amount of people living in a neighborhood\\\n",
    "5.The estimate total amount of people that have a steady flow of income through their wage or salary\\\n",
    "6.The margin of error for the total amount of people that have a steady flow of income through their wage or salary\\\n",
    "7.The estimate amount of people that don't have a steady flow of income through a wage or salary\\\n",
    "8.The margin of error for the total amount of people that don't have a steady flow of income through a wage or salary\n",
    "\n",
    "\n",
    "\n",
    "##### The id is more or less irrelevant and for the sake of simplicity we won't be taking into account/looking at the margin of errors for the real values we need: The estimate total amount of people that have or don't have a steady flow of income through their wage or salary."
   ]
  },
  {
   "cell_type": "markdown",
   "metadata": {},
   "source": [
    "----------"
   ]
  },
  {
   "cell_type": "markdown",
   "metadata": {},
   "source": [
    "## A Quick Look at the Statistics of our Data"
   ]
  },
  {
   "cell_type": "code",
   "execution_count": 4,
   "metadata": {},
   "outputs": [
    {
     "name": "stdout",
     "output_type": "stream",
     "text": [
      "Our data set contains a total of 91 neighborhoods located in the Pittsburgh area but we have not taken outliers into account and will only be using 89 of them\n",
      "\n",
      "The average population of a neighborhood is: 1502\n",
      "\n",
      "The minimum amount of people living in a neighborhood is: 104.0\n",
      "\n",
      "The average amount of people in a neighborhood that are in the workforce is: 1090\n",
      "\n",
      "The average amount of people in a neighborhood that are not in the workforce is: 412\n"
     ]
    }
   ],
   "source": [
    "query_mask = data['Estimate; Total:'] > 8\n",
    "trueData = data[query_mask]\n",
    "\n",
    "print(\"Our data set contains a total of \" + str(len(data)) + \" neighborhoods located in the Pittsburgh area but we have not taken outliers into account and will only be using \" + str(len(trueData))+ \" of them\"\"\\n\")\n",
    "print(\"The average population of a neighborhood is: \" + str(int(trueData[\"Estimate; Total:\"].mean()))+ \"\\n\")\n",
    "print(\"The minimum amount of people living in a neighborhood is: \" +  str(trueData['Estimate; Total:'].min())+ \"\\n\")\n",
    "print(\"The average amount of people in a neighborhood that are in the workforce is: \" + str(int(trueData[\"Estimate; Total: - With wage or salary income\"].mean())) + \"\\n\")\n",
    "print(\"The average amount of people in a neighborhood that are not in the workforce is: \" + str(int(trueData[\"Estimate; Total: - No wage or salary income\"].mean() )))"
   ]
  },
  {
   "cell_type": "markdown",
   "metadata": {},
   "source": [
    "-----"
   ]
  },
  {
   "cell_type": "markdown",
   "metadata": {},
   "source": [
    "## How can we efficiently use our data?"
   ]
  },
  {
   "cell_type": "code",
   "execution_count": 5,
   "metadata": {},
   "outputs": [
    {
     "data": {
      "text/plain": [
       "<matplotlib.axes._subplots.AxesSubplot at 0x7f15ad044e80>"
      ]
     },
     "execution_count": 5,
     "metadata": {},
     "output_type": "execute_result"
    },
    {
     "data": {
      "image/png": "[encoded data removed]",
      "text/plain": [
       "<Figure size 432x288 with 1 Axes>"
      ]
     },
     "metadata": {
      "needs_background": "light"
     },
     "output_type": "display_data"
    },
    {
     "data": {
      "image/png": "[encoded data removed]",
      "text/plain": [
       "<Figure size 432x288 with 1 Axes>"
      ]
     },
     "metadata": {
      "needs_background": "light"
     },
     "output_type": "display_data"
    }
   ],
   "source": [
    "trueData.plot(kind='scatter', x='Estimate; Total:', y='Estimate; Total: - With wage or salary income',\n",
    "          title=\"Total People vs Total Employed\")\n",
    "\n",
    "trueData.plot(kind='scatter', x='Estimate; Total:', y='Estimate; Total: - No wage or salary income',\n",
    "          title=\"Total People vs Total Not Employed\")\n",
    "\n"
   ]
  },
  {
   "cell_type": "markdown",
   "metadata": {},
   "source": [
    "The first scatterplot shows a very strong, positive, linear relationship between the total amount of people living in a neighborhood to the amount of employees that neighborhood has, and there are no major outliers in the data. Most of the data seems to be contained within the 100-2500 range.\n",
    "\n",
    "\n",
    "The second scatterplot shows a moderately strong, positive, linear relationship betweeen the total amount of people living in a neighborhood to the amount of people that are not employed, and there may be a couple outliers. Most of the data seems to be contained within the 100-2500 range aswell.\n",
    "\n",
    "We would definetely expect both of these scatterplots to take this shape. Due to the graphs linear shape we cannot simply choose the neighborhood that has most amount of people. We must develop a dynamic metric in this case to take into account the neighborhoods population. We can choose to take the ratio of the total amount of people employed in a neighborhood to the total amount of people in that neighborhood.\n"
   ]
  },
  {
   "cell_type": "markdown",
   "metadata": {},
   "source": [
    "----"
   ]
  },
  {
   "cell_type": "code",
   "execution_count": null,
   "metadata": {},
   "outputs": [],
   "source": [
    "\n"
   ]
  },
  {
   "cell_type": "code",
   "execution_count": 8,
   "metadata": {},
   "outputs": [
    {
     "data": {
      "text/plain": [
       "Text(0.5, 1.0, 'Employee Rate vs Populatin Count')"
      ]
     },
     "execution_count": 8,
     "metadata": {},
     "output_type": "execute_result"
    },
    {
     "data": {
      "image/png": "[encoded data removed]",
      "text/plain": [
       "<Figure size 432x288 with 1 Axes>"
      ]
     },
     "metadata": {
      "needs_background": "light"
     },
     "output_type": "display_data"
    }
   ],
   "source": [
    "ratioList = []\n",
    "populationList = []\n",
    "neighborhoodList = []\n",
    "\n",
    "ratioTable = {}\n",
    "\n",
    "\n",
    "\n",
    "ratio = 0\n",
    "maxRatio = 0;\n",
    "bestNeighborhood = '';\n",
    "bestNeighborhoodPop = 0\n",
    "bestNeighborhoodEmpCount = 0\n",
    "for index, row in trueData.iterrows():\n",
    "    neighborhood = row['Neighborhood']\n",
    "    population = row['Estimate; Total:']\n",
    "    employeeCount = row['Estimate; Total: - With wage or salary income']\n",
    "    \n",
    "    ratio = employeeCount/population\n",
    "    ratioList.append(ratio)\n",
    "    populationList.append(population)\n",
    "    neighborhoodList.append(neighborhood)\n",
    "    ratioTable[neighborhood] = ratio\n",
    "    \n",
    "    if(ratio>maxRatio):\n",
    "        maxRatio = ratio\n",
    "        bestNeighborhood = neighborhood\n",
    "        bestNeighborhoodPop = population\n",
    "        bestNeighborhoodEmpCount = employeeCount\n",
    "           \n",
    "        \n",
    "    \n",
    "plt.scatter(ratioList,populationList) ## skewed to the left\n",
    "\n",
    "plt.xlabel('Employee Count to Population Count Ratio')\n",
    "plt.ylabel('Population Count')\n",
    "plt.title('Employee Rate vs Populatin Count')\n"
   ]
  },
  {
   "cell_type": "markdown",
   "metadata": {},
   "source": [
    " The data comparing the ratio to the total population is approximately normal with a slight skew to the left"
   ]
  },
  {
   "cell_type": "code",
   "execution_count": 77,
   "metadata": {},
   "outputs": [
    {
     "data": {
      "text/plain": [
       "<matplotlib.collections.PathCollection at 0x7f2e88acea60>"
      ]
     },
     "execution_count": 77,
     "metadata": {},
     "output_type": "execute_result"
    },
    {
     "data": {
      "image/png": "[encoded data removed]",
      "text/plain": [
       "<Figure size 432x288 with 1 Axes>"
      ]
     },
     "metadata": {
      "needs_background": "light"
     },
     "output_type": "display_data"
    }
   ],
   "source": [
    "plt.scatter(ratioList,neighborhoodList)\n"
   ]
  },
  {
   "cell_type": "markdown",
   "metadata": {},
   "source": [
    "----"
   ]
  },
  {
   "cell_type": "markdown",
   "metadata": {},
   "source": [
    "## Rankings "
   ]
  },
  {
   "cell_type": "code",
   "execution_count": 17,
   "metadata": {},
   "outputs": [
    {
     "name": "stdout",
     "output_type": "stream",
     "text": [
      "1 Fairywood 0.9781181619256017\n",
      "2 North Shore 0.9432624113475178\n",
      "3 Friendship 0.9025069637883009\n",
      "4 Esplen 0.8775510204081632\n",
      "5 Mt. Oliver 0.8733031674208145\n",
      "6 Strip District 0.8723849372384938\n",
      "7 Central Oakland 0.8644421272158499\n",
      "8 Ridgemont 0.8392857142857143\n",
      "9 Summer Hill 0.8377862595419847\n",
      "10 Westwood 0.8289299867899603\n",
      "11 South Side Flats 0.8264774044032445\n",
      "12 Arlington 0.8262773722627738\n",
      "13 West End 0.825\n",
      "14 Point Breeze 0.8181431005110733\n",
      "15 Bloomfield 0.8165948275862069\n",
      "16 Shadyside 0.8083623693379791\n",
      "17 East Carnegie 0.8071748878923767\n",
      "18 Allegheny West 0.8\n",
      "19 Banksville 0.7972027972027972\n",
      "20 Perry North 0.796016898008449\n",
      "21 Bon Air 0.7893258426966292\n",
      "22 Bluff 0.7883211678832117\n",
      "23 South Side Slopes 0.7841365461847389\n",
      "24 Highland Park 0.7818181818181819\n",
      "25 Regent Square 0.7794432548179872\n",
      "26 Squirrel Hill North 0.7770290067389394\n",
      "27 Morningside 0.7726396917148363\n",
      "28 Duquesne Heights 0.7710638297872341\n",
      "29 Northview Heights 0.7694174757281553\n",
      "30 Greenfield 0.7610619469026548\n",
      "31 Brookline 0.7608442745554262\n",
      "32 St. Clair 0.7596153846153846\n",
      "33 Brighton Heights 0.7551396133783369\n",
      "34 Central Business District 0.7531403604587658\n",
      "35 Overbrook 0.7515605493133583\n",
      "36 Sheraden 0.7495107632093934\n",
      "37 South Oakland 0.7489504617968094\n",
      "38 Hays 0.7470588235294118\n",
      "39 Point Breeze North 0.7468230694037146\n",
      "40 Beechview 0.746134382906944\n",
      "41 Polish Hill 0.7461139896373057\n",
      "42 Upper Lawrenceville 0.742472266244057\n",
      "43 Chartiers City 0.7395348837209302\n",
      "44 Mount Washington 0.735819209039548\n",
      "45 Mount Oliver Borough 0.7327905255366395\n",
      "46 Lower Lawrenceville 0.7316680096696213\n",
      "47 New Homestead 0.728021978021978\n",
      "48 Central Northside 0.7256220578345662\n",
      "49 Central Lawrenceville 0.7246636771300449\n",
      "50 Swisshelm Park 0.724561403508772\n",
      "51 Carrick 0.7220417633410673\n",
      "52 Stanton Heights 0.7188405797101449\n",
      "53 Marshall-Shadeland 0.717827626918536\n",
      "54 Troy Hill 0.7150127226463104\n",
      "55 Knoxville 0.7128647214854111\n",
      "56 Squirrel Hill South 0.7010696733159872\n",
      "57 Windgap 0.6924242424242424\n",
      "58 Spring Garden 0.6884816753926701\n",
      "59 Lincoln Place 0.6835180055401662\n",
      "60 East Liberty 0.6834830684174154\n",
      "61 Crafton Heights 0.6792682926829269\n",
      "62 Allentown 0.6783831282952548\n",
      "63 East Allegheny 0.6760242792109257\n",
      "64 Beltzhoover 0.6743383199079401\n",
      "65 North Oakland 0.6637139107611548\n",
      "66 Elliott 0.6378035902851109\n",
      "67 Manchester 0.635483870967742\n",
      "68 Allegheny Center 0.6302864938608458\n",
      "69 West Oakland 0.6266891891891891\n",
      "70 Hazelwood 0.6130573248407644\n",
      "71 Homewood North 0.6070588235294118\n",
      "72 Fineview 0.6064814814814815\n",
      "73 Upper Hill 0.6047516198704104\n",
      "74 Oakwood 0.6041666666666666\n",
      "75 Lincoln-Lemington-Belmar 0.60305745914602\n",
      "76 Spring Hill-City View 0.6001881467544685\n",
      "77 Perry South 0.5928439235040098\n",
      "78 Garfield 0.5796812749003984\n",
      "79 Arlington Heights 0.5647058823529412\n",
      "80 California-Kirkbride 0.5429553264604811\n",
      "81 Homewood West 0.541371158392435\n",
      "82 Terrace Village 0.5333333333333333\n",
      "83 Homewood South 0.5330316742081448\n",
      "84 East Hills 0.5222641509433962\n",
      "85 Middle Hill 0.5210176991150443\n",
      "86 Larimer 0.49393939393939396\n",
      "87 Bedford Dwellings 0.4298245614035088\n",
      "88 Crawford-Roberts 0.4293193717277487\n",
      "89 Glen Hazel 0.33070866141732286\n"
     ]
    }
   ],
   "source": [
    "ratioTable  = {k: l for k, l in sorted(ratioTable.items(), key = lambda l: l[1],reverse = True )}\n",
    "\n",
    "for i in range(89):\n",
    "    name=list(ratioTable)[i]\n",
    "    print(str(i+1) + \" \" +  name + \" \" + str(ratioTable.get(name)))"
   ]
  },
  {
   "cell_type": "markdown",
   "metadata": {},
   "source": [
    "-----"
   ]
  },
  {
   "cell_type": "markdown",
   "metadata": {},
   "source": [
    "## The neighborhood with the best employee count to population ratio"
   ]
  },
  {
   "cell_type": "code",
   "execution_count": 79,
   "metadata": {},
   "outputs": [
    {
     "name": "stdout",
     "output_type": "stream",
     "text": [
      "The neighborhood with the best employee to population rate of 0.9781181619256017 is Fairywood\n",
      "\n",
      "Fairywood has a total population count of 457.0 with 447.0 being employed\n"
     ]
    }
   ],
   "source": [
    "print(\"The neighborhood with the best employee to population rate of \" + str(maxRatio) + \" is \" + bestNeighborhood + \"\\n\")\n",
    "\n",
    "print(bestNeighborhood + \" has a total population count of \" + str(bestNeighborhoodPop) + \n",
    "      \" with \" + str(bestNeighborhoodEmpCount)+ \" being employed\"   )"
   ]
  },
  {
   "cell_type": "markdown",
   "metadata": {},
   "source": [
    "-------"
   ]
  },
  {
   "cell_type": "markdown",
   "metadata": {},
   "source": [
    "## Conclusion"
   ]
  },
  {
   "cell_type": "markdown",
   "metadata": {},
   "source": [
    "Fairywood is the best neighborhood in terms of their employee rate, but my personal favorite neighborhood in Pittsburgh is Brookline and it's definetely not for their employee rate score. In fact, Brookline has an employee to population rate of 0.76 and is ranked 31 out of the 89 neighborhoods for employee rates. Brookline is nowhere near Fairywood in terms of the ranking and is probably not the best at anything, but I spent a portion of my childhood living there and during that time I can only think of all the good moments I've had and all the amazing people I've met. Of course I'm biased in my decision, but at the end of the day the title \"best neighborhood\" comes down to personal preference.  "
   ]
  },
  {
   "cell_type": "code",
   "execution_count": null,
   "metadata": {},
   "outputs": [],
   "source": []
  }
 ],
 "metadata": {
  "kernelspec": {
   "display_name": "Python 3",
   "language": "python",
   "name": "python3"
  },
  "language_info": {
   "codemirror_mode": {
    "name": "ipython",
    "version": 3
   },
   "file_extension": ".py",
   "mimetype": "text/x-python",
   "name": "python",
   "nbconvert_exporter": "python",
   "pygments_lexer": "ipython3",
   "version": "3.8.3"
  }
 },
 "nbformat": 4,
 "nbformat_minor": 4
}
